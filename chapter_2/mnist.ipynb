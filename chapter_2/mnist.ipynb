{
 "cells": [
  {
   "cell_type": "code",
   "execution_count": 5,
   "metadata": {},
   "outputs": [
    {
     "name": "stdout",
     "output_type": "stream",
     "text": [
      "Epoch 1/5\n",
      "469/469 [==============================] - 3s 6ms/step - loss: 0.2659 - accuracy: 0.9233\n",
      "Epoch 2/5\n",
      "469/469 [==============================] - 2s 5ms/step - loss: 0.1088 - accuracy: 0.9675\n",
      "Epoch 3/5\n",
      "469/469 [==============================] - 2s 5ms/step - loss: 0.0707 - accuracy: 0.9793\n",
      "Epoch 4/5\n",
      "469/469 [==============================] - 2s 5ms/step - loss: 0.0515 - accuracy: 0.9845\n",
      "Epoch 5/5\n",
      "469/469 [==============================] - 2s 5ms/step - loss: 0.0382 - accuracy: 0.9888\n",
      "1/1 [==============================] - 0s 67ms/step\n",
      "[1.1805277e-07 1.7304838e-09 7.0199562e-06 1.0362913e-04 5.5528256e-11\n",
      " 1.5512505e-07 7.5113778e-12 9.9988270e-01 1.2801827e-07 6.2909444e-06]\n"
     ]
    }
   ],
   "source": [
    "# Load Data\n",
    "from tensorflow.keras.datasets import mnist\n",
    "(train_images, train_labels), (test_images, test_labels) = mnist.load_data()\n",
    "\n",
    "# Network Architecture\n",
    "from tensorflow import keras \n",
    "from keras import layers \n",
    "model = keras.Sequential([layers.Dense(512, activation=\"relu\"), layers.Dense(10, activation=\"softmax\")])\n",
    "\n",
    "# Compilation step\n",
    "model.compile(optimizer=\"rmsprop\", \n",
    "              loss=\"sparse_categorical_crossentropy\",\n",
    "              metrics=[\"accuracy\"])\n",
    "\n",
    "# Processing image data\n",
    "train_images = train_images.reshape((60000, 28*28))\n",
    "train_images = train_images.astype(\"float32\")/255\n",
    "test_images = test_images.reshape((10000, 28*28))\n",
    "test_images = test_images.astype(\"float32\")/255\n",
    "\n",
    "# Fitting the model\n",
    "model.fit(train_images, train_labels, epochs=5, batch_size=128)\n",
    "\n",
    "# Make prefictions\n",
    "test_digits = test_images[0:10]\n",
    "predictions = model.predict(test_digits)\n",
    "print(predictions[0])"
   ]
  },
  {
   "cell_type": "code",
   "execution_count": 6,
   "metadata": {},
   "outputs": [
    {
     "name": "stdout",
     "output_type": "stream",
     "text": [
      "313/313 [==============================] - 1s 3ms/step - loss: 0.0697 - accuracy: 0.9791\n",
      "test_acc: 0.9790999889373779\n"
     ]
    }
   ],
   "source": [
    "# Evaluating\n",
    "test_loss, test_acc = model.evaluate(test_images, test_labels)\n",
    "print(f\"test_acc: {test_acc}\")"
   ]
  },
  {
   "cell_type": "code",
   "execution_count": 14,
   "metadata": {},
   "outputs": [
    {
     "name": "stdout",
     "output_type": "stream",
     "text": [
      "(28, 28)\n"
     ]
    },
    {
     "data": {
      "image/png": "[encoded data removed]",
      "text/plain": [
       "<Figure size 432x288 with 1 Axes>"
      ]
     },
     "metadata": {
      "needs_background": "light"
     },
     "output_type": "display_data"
    }
   ],
   "source": [
    "# Display a digit\n",
    "import matplotlib.pyplot as plt\n",
    "digit = train_images[4].reshape((28,28))\n",
    "print(digit.shape)\n",
    "plt.imshow(digit, cmap=plt.cm.binary)\n",
    "plt.show()"
   ]
  },
  {
   "cell_type": "code",
   "execution_count": 20,
   "metadata": {},
   "outputs": [
    {
     "name": "stdout",
     "output_type": "stream",
     "text": [
      "Epoch 0\n",
      "loss at batch 0 : 6.03\n",
      "loss at batch 100 : 2.23\n",
      "loss at batch 200 : 2.20\n",
      "loss at batch 300 : 2.10\n",
      "loss at batch 400 : 2.22\n",
      "Epoch 1\n",
      "loss at batch 0 : 1.89\n",
      "loss at batch 100 : 1.86\n",
      "loss at batch 200 : 1.82\n",
      "loss at batch 300 : 1.71\n",
      "loss at batch 400 : 1.82\n",
      "Epoch 2\n",
      "loss at batch 0 : 1.56\n",
      "loss at batch 100 : 1.57\n",
      "loss at batch 200 : 1.49\n",
      "loss at batch 300 : 1.42\n",
      "loss at batch 400 : 1.50\n",
      "Epoch 3\n",
      "loss at batch 0 : 1.30\n",
      "loss at batch 100 : 1.33\n",
      "loss at batch 200 : 1.23\n",
      "loss at batch 300 : 1.21\n",
      "loss at batch 400 : 1.27\n",
      "Epoch 4\n",
      "loss at batch 0 : 1.11\n",
      "loss at batch 100 : 1.15\n",
      "loss at batch 200 : 1.04\n",
      "loss at batch 300 : 1.05\n",
      "loss at batch 400 : 1.10\n",
      "Epoch 5\n",
      "loss at batch 0 : 0.97\n",
      "loss at batch 100 : 1.01\n",
      "loss at batch 200 : 0.90\n",
      "loss at batch 300 : 0.93\n",
      "loss at batch 400 : 0.98\n",
      "Epoch 6\n",
      "loss at batch 0 : 0.86\n",
      "loss at batch 100 : 0.91\n",
      "loss at batch 200 : 0.80\n",
      "loss at batch 300 : 0.85\n",
      "loss at batch 400 : 0.89\n",
      "Epoch 7\n",
      "loss at batch 0 : 0.78\n",
      "loss at batch 100 : 0.82\n",
      "loss at batch 200 : 0.72\n",
      "loss at batch 300 : 0.78\n",
      "loss at batch 400 : 0.83\n",
      "Epoch 8\n",
      "loss at batch 0 : 0.72\n",
      "loss at batch 100 : 0.76\n",
      "loss at batch 200 : 0.66\n",
      "loss at batch 300 : 0.72\n",
      "loss at batch 400 : 0.78\n",
      "Epoch 9\n",
      "loss at batch 0 : 0.67\n",
      "loss at batch 100 : 0.70\n",
      "loss at batch 200 : 0.61\n",
      "loss at batch 300 : 0.68\n",
      "loss at batch 400 : 0.74\n"
     ]
    }
   ],
   "source": [
    "# Dense from scratch\n",
    "import tensorflow as tf\n",
    "import numpy as np\n",
    "import math\n",
    "\n",
    "class NaiveDense:\n",
    "    def __init__(self, input_size, output_size, activation):\n",
    "        self.activation = activation\n",
    "\n",
    "        w_shape = (input_size, output_size)\n",
    "        w_initial_value = tf.random.uniform(w_shape, minval=0, maxval=1e-1)\n",
    "        self.W = tf.Variable(w_initial_value)\n",
    "\n",
    "        b_shape = (output_size,)\n",
    "        b_initial_value = tf.zeros(b_shape)\n",
    "        self.b = tf.Variable(b_initial_value)\n",
    "\n",
    "    def __call__(self, inputs):\n",
    "        return self.activation(tf.matmul(inputs, self.W) + self.b)\n",
    "    \n",
    "    @property\n",
    "    def weights(self):\n",
    "        return [self.W, self.b]\n",
    "\n",
    "class NaiveSequential:\n",
    "    def __init__(self, layers):\n",
    "        self.layers = layers\n",
    "    \n",
    "    def __call__(self, inputs):\n",
    "        x = inputs\n",
    "        for layer in self.layers:\n",
    "            x = layer(x)\n",
    "        return x\n",
    "    \n",
    "    @property\n",
    "    def weights(self):\n",
    "        weights = []\n",
    "        for layer in self.layers:\n",
    "            weights += layer.weights\n",
    "        return weights\n",
    "\n",
    "# Mock model\n",
    "model = NaiveSequential([\n",
    "        NaiveDense(input_size=28*28, output_size=512, activation=tf.nn.relu),\n",
    "        NaiveDense(input_size=512, output_size=10, activation=tf.nn.softmax)])\n",
    "\n",
    "assert len(model.weights) == 4\n",
    "\n",
    "class BatchGenerator:\n",
    "    def __init__(self, images, labels, batch_size=128):\n",
    "        assert len(images) == len(labels)\n",
    "        self.index = 0\n",
    "        self.images = images\n",
    "        self.labels = labels\n",
    "        self.batch_size = batch_size\n",
    "        self.num_batches = math.ceil(len(images)/batch_size)\n",
    "\n",
    "    def next(self):\n",
    "        images = self.images[self.index : self.index + self.batch_size]\n",
    "        labels = self.labels[self.index : self.index + self.batch_size]\n",
    "        self.index += self.batch_size\n",
    "        return images, labels\n",
    "\n",
    "# Update weights\n",
    "learning_rate = 1e-3\n",
    "def update_weights(gradients, weights):\n",
    "    for g, w in zip(gradients, weights):\n",
    "        w.assign_sub(g * learning_rate)\n",
    "\n",
    "# Gradient Compute\n",
    "def one_training_step(model, images_batch, labels_batch):\n",
    "    with tf.GradientTape() as tape:\n",
    "        predictions = model(images_batch)\n",
    "        per_sample_losses = tf.keras.losses.sparse_categorical_crossentropy(labels_batch, predictions)\n",
    "        average_loss = tf.reduce_mean(per_sample_losses)\n",
    "    gradients = tape.gradient(average_loss, model.weights)\n",
    "    update_weights(gradients, model.weights)\n",
    "    return average_loss\n",
    "\n",
    "# Fit Model\n",
    "def fit(model, images, labels, epochs, batch_size=128):\n",
    "    for epoch_counter in range(epochs):\n",
    "        print(f\"Epoch {epoch_counter}\")\n",
    "        batch_generator = BatchGenerator(images, labels)\n",
    "        for batch_counter in range(batch_generator.num_batches):\n",
    "            images_batch, labels_batch = batch_generator.next()\n",
    "            loss = one_training_step(model, images_batch, labels_batch)\n",
    "            if batch_counter % 100 ==0:\n",
    "                print(f\"loss at batch {batch_counter} : {loss:.2f}\")\n",
    "\n",
    "# Test\n",
    "from tensorflow import keras\n",
    "from keras.datasets import mnist\n",
    "\n",
    "(train_images, train_labels), (test_images, test_labels) = mnist.load_data()\n",
    "train_images = train_images.reshape((60000, 28 * 28))\n",
    "train_images = train_images.astype(\"float32\") / 255\n",
    "test_images = test_images.reshape((10000, 28 * 28))\n",
    "test_images = test_images.astype(\"float32\") / 255\n",
    "fit(model, train_images, train_labels, epochs=10, batch_size=128)"
   ]
  },
  {
   "cell_type": "code",
   "execution_count": 21,
   "metadata": {},
   "outputs": [
    {
     "name": "stdout",
     "output_type": "stream",
     "text": [
      "accuracy: 0.82\n"
     ]
    }
   ],
   "source": [
    "# Evaluating Mock Model\n",
    "predictions = model(test_images)\n",
    "predictions = predictions.numpy()\n",
    "predicted_labels = np.argmax(predictions, axis=1)\n",
    "matches = predicted_labels == test_labels\n",
    "print(f\"accuracy: {matches.mean():.2f}\")"
   ]
  },
  {
   "cell_type": "code",
   "execution_count": null,
   "metadata": {},
   "outputs": [],
   "source": []
  }
 ],
 "metadata": {
  "kernelspec": {
   "display_name": "Python 3.9.13 64-bit (microsoft store)",
   "language": "python",
   "name": "python3"
  },
  "language_info": {
   "codemirror_mode": {
    "name": "ipython",
    "version": 3
   },
   "file_extension": ".py",
   "mimetype": "text/x-python",
   "name": "python",
   "nbconvert_exporter": "python",
   "pygments_lexer": "ipython3",
   "version": "3.9.13"
  },
  "orig_nbformat": 4,
  "vscode": {
   "interpreter": {
    "hash": "903db93db347b6cc4711a3ce3dd580256d2eecd4e3d421c66e7174fdec8ffda9"
   }
  }
 },
 "nbformat": 4,
 "nbformat_minor": 2
}
